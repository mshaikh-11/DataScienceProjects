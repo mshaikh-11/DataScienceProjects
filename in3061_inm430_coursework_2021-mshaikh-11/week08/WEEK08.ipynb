{
 "cells": [
  {
   "cell_type": "markdown",
   "id": "c4dfe3e8",
   "metadata": {},
   "source": [
    "#  DIY Exercises - 0 : Download and tokenise a book"
   ]
  },
  {
   "cell_type": "code",
   "execution_count": 1,
   "id": "d0f80592",
   "metadata": {},
   "outputs": [],
   "source": [
    "from urllib.request import urlopen\n",
    "from wordcloud import WordCloud\n",
    "from nltk.corpus import stopwords"
   ]
  },
  {
   "cell_type": "code",
   "execution_count": 2,
   "id": "2d2bfa11",
   "metadata": {},
   "outputs": [
    {
     "name": "stdout",
     "output_type": "stream",
     "text": [
      "Collecting package metadata (current_repodata.json): done\n",
      "Solving environment: done\n",
      "\n",
      "# All requested packages already installed.\n",
      "\n",
      "\n",
      "Note: you may need to restart the kernel to use updated packages.\n"
     ]
    }
   ],
   "source": [
    "\n",
    "conda install -c conda-forge wordcloud"
   ]
  },
  {
   "cell_type": "code",
   "execution_count": 17,
   "id": "466a023e",
   "metadata": {},
   "outputs": [
    {
     "name": "stderr",
     "output_type": "stream",
     "text": [
      "[nltk_data] Downloading package punkt to\n",
      "[nltk_data]     /Users/sufyaanshaikh/nltk_data...\n",
      "[nltk_data]   Package punkt is already up-to-date!\n",
      "[nltk_data] Downloading package stopwords to\n",
      "[nltk_data]     /Users/sufyaanshaikh/nltk_data...\n",
      "[nltk_data]   Unzipping corpora/stopwords.zip.\n"
     ]
    },
    {
     "data": {
      "text/plain": [
       "True"
      ]
     },
     "execution_count": 17,
     "metadata": {},
     "output_type": "execute_result"
    }
   ],
   "source": [
    "import nltk\n",
    "nltk.download('punkt')\n",
    "nltk.download('stopwords')"
   ]
  },
  {
   "cell_type": "code",
   "execution_count": 18,
   "id": "fd255df1",
   "metadata": {},
   "outputs": [
    {
     "name": "stdout",
     "output_type": "stream",
     "text": [
      "Collecting package metadata (current_repodata.json): done\n",
      "Solving environment: done\n",
      "\n",
      "# All requested packages already installed.\n",
      "\n",
      "\n",
      "Note: you may need to restart the kernel to use updated packages.\n"
     ]
    }
   ],
   "source": [
    "conda install -c https://conda.anaconda.org/conda-forge wordcloud"
   ]
  },
  {
   "cell_type": "code",
   "execution_count": 19,
   "id": "334660c0",
   "metadata": {},
   "outputs": [],
   "source": [
    "from urllib.request import urlopen\n",
    "target_url0 = 'http://www.gutenberg.org/files/135/135-0.txt'\n",
    "book_raw = urlopen(target_url0).read().decode('utf-8')"
   ]
  },
  {
   "cell_type": "code",
   "execution_count": 20,
   "id": "3600e5c7",
   "metadata": {},
   "outputs": [
    {
     "data": {
      "text/plain": [
       "str"
      ]
     },
     "execution_count": 20,
     "metadata": {},
     "output_type": "execute_result"
    }
   ],
   "source": [
    "# That has stored the whole book (yes! The five volumes, each with several books and many many chapters each. Just Waterloo takes 19 chapters ...) in the variable book_raw. \n",
    "type(book_raw)"
   ]
  },
  {
   "cell_type": "code",
   "execution_count": 21,
   "id": "d502f10a",
   "metadata": {},
   "outputs": [
    {
     "data": {
      "text/plain": [
       "3324222"
      ]
     },
     "execution_count": 21,
     "metadata": {},
     "output_type": "execute_result"
    }
   ],
   "source": [
    "len(book_raw)"
   ]
  },
  {
   "cell_type": "code",
   "execution_count": 22,
   "id": "ab2199a6",
   "metadata": {},
   "outputs": [
    {
     "data": {
      "text/plain": [
       "'The Project Gutenberg eBook of Les Misérables, by Victor Hugo\\r\\n\\r\\nThis eBook is for the use of anyone anywhere in the United States and\\r\\nmost other parts of the world at no cost and with almost no restrictions\\r\\nwhatsoever. You may copy it, give it aw'"
      ]
     },
     "execution_count": 22,
     "metadata": {},
     "output_type": "execute_result"
    }
   ],
   "source": [
    "book_raw[1:250]"
   ]
  },
  {
   "cell_type": "code",
   "execution_count": 23,
   "id": "4f52ab2f",
   "metadata": {},
   "outputs": [],
   "source": [
    "# The variable contains a string, which we can now convert to tokens:\n",
    "from nltk.tokenize import word_tokenize\n",
    "word_tokens  = word_tokenize(book_raw)"
   ]
  },
  {
   "cell_type": "code",
   "execution_count": 24,
   "id": "47f31195",
   "metadata": {},
   "outputs": [],
   "source": [
    "from nltk.corpus import stopwords\n",
    "stop_words = (stopwords.words('english'))"
   ]
  },
  {
   "cell_type": "markdown",
   "id": "ff28ae94",
   "metadata": {},
   "source": [
    "# DIY Exercises - 1 : Lengthy books\n"
   ]
  },
  {
   "cell_type": "code",
   "execution_count": null,
   "id": "2cea497c",
   "metadata": {},
   "outputs": [],
   "source": [
    "from urllib.request import urlopen\n",
    "target_url0 = 'https://www.gutenberg.org/files/1184/1184-0.txt'\n",
    "book_raw = urlopen(target_url0).read().decode('utf-8')"
   ]
  },
  {
   "cell_type": "code",
   "execution_count": null,
   "id": "57bf4cff",
   "metadata": {},
   "outputs": [],
   "source": [
    "type(book_raw)"
   ]
  },
  {
   "cell_type": "code",
   "execution_count": null,
   "id": "7481da79",
   "metadata": {},
   "outputs": [],
   "source": [
    "len(book_raw)"
   ]
  },
  {
   "cell_type": "markdown",
   "id": "4db690ca",
   "metadata": {},
   "source": [
    "# DIY Exercises - 2 : Word Clouds and frequency counts"
   ]
  },
  {
   "cell_type": "code",
   "execution_count": null,
   "id": "5485e136",
   "metadata": {},
   "outputs": [],
   "source": [
    "word_tokens_sw = [word for word in word_tokens if not word in stop_words]\n",
    "fdist = FreqDist(word_tokens_sw)\n",
    "character_list = ['Myriel','Bishop','Baptistine','Magloire','Cravatte','Valjean','Gervais','Fantine','Tholomyès'\n",
    "                  ,'Blachevelle','Dahlia','Fameuil','Favourite','Listolier','Zéphine','Cosette','Thénardier',\n",
    "                  'Éponine','Azelma','Javert','Fauchelevent','Bamatabois','Champmathieu',\n",
    "                  'Brevet','Simplice','Chenildieu','Cochepaille','Innocente','Reverend','Ascension','Crucifixion',\n",
    "                  'Gavroche','Magnon',\n",
    "                  'Gillenormand','Marius','Colonel','Mabeuf','Enjolras','Combeferre','Prouvaire',\n",
    "                 'Feuilly','Courfeyrac','Bahorel','Lesgle','Joly','Grantaire','Patron-Minette','Brujon',\n",
    "                 'Toussaint'] "
   ]
  },
  {
   "cell_type": "code",
   "execution_count": null,
   "id": "70e348ce",
   "metadata": {},
   "outputs": [],
   "source": [
    "for name in character_list : \n",
    "    print(name,fdist[name])"
   ]
  },
  {
   "cell_type": "markdown",
   "id": "bcfb296a",
   "metadata": {},
   "source": [
    "# DIY Exercises - 3 : Character interactions\n"
   ]
  },
  {
   "cell_type": "code",
   "execution_count": null,
   "id": "7be2c613",
   "metadata": {},
   "outputs": [],
   "source": []
  }
 ],
 "metadata": {
  "kernelspec": {
   "display_name": "Python 3",
   "language": "python",
   "name": "python3"
  },
  "language_info": {
   "codemirror_mode": {
    "name": "ipython",
    "version": 3
   },
   "file_extension": ".py",
   "mimetype": "text/x-python",
   "name": "python",
   "nbconvert_exporter": "python",
   "pygments_lexer": "ipython3",
   "version": "3.8.8"
  }
 },
 "nbformat": 4,
 "nbformat_minor": 5
}
