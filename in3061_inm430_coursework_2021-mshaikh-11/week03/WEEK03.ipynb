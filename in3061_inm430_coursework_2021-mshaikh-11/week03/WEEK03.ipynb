{
 "cells": [
  {
   "cell_type": "markdown",
   "id": "623afff2",
   "metadata": {},
   "source": [
    "# PART 1 : OUTLIERS"
   ]
  },
  {
   "cell_type": "code",
   "execution_count": 1,
   "id": "726e0089",
   "metadata": {},
   "outputs": [
    {
     "data": {
      "text/html": [
       "<div>\n",
       "<style scoped>\n",
       "    .dataframe tbody tr th:only-of-type {\n",
       "        vertical-align: middle;\n",
       "    }\n",
       "\n",
       "    .dataframe tbody tr th {\n",
       "        vertical-align: top;\n",
       "    }\n",
       "\n",
       "    .dataframe thead th {\n",
       "        text-align: right;\n",
       "    }\n",
       "</style>\n",
       "<table border=\"1\" class=\"dataframe\">\n",
       "  <thead>\n",
       "    <tr style=\"text-align: right;\">\n",
       "      <th></th>\n",
       "      <th>price</th>\n",
       "      <th>mileage</th>\n",
       "      <th>year</th>\n",
       "      <th>trim</th>\n",
       "      <th>engine</th>\n",
       "      <th>transmission</th>\n",
       "    </tr>\n",
       "  </thead>\n",
       "  <tbody>\n",
       "    <tr>\n",
       "      <th>0</th>\n",
       "      <td>14995</td>\n",
       "      <td>67697</td>\n",
       "      <td>2006</td>\n",
       "      <td>ex</td>\n",
       "      <td>4 Cyl</td>\n",
       "      <td>Manual</td>\n",
       "    </tr>\n",
       "    <tr>\n",
       "      <th>1</th>\n",
       "      <td>11988</td>\n",
       "      <td>73738</td>\n",
       "      <td>2006</td>\n",
       "      <td>ex</td>\n",
       "      <td>4 Cyl</td>\n",
       "      <td>Manual</td>\n",
       "    </tr>\n",
       "    <tr>\n",
       "      <th>2</th>\n",
       "      <td>11999</td>\n",
       "      <td>80313</td>\n",
       "      <td>2006</td>\n",
       "      <td>lx</td>\n",
       "      <td>4 Cyl</td>\n",
       "      <td>Automatic</td>\n",
       "    </tr>\n",
       "    <tr>\n",
       "      <th>3</th>\n",
       "      <td>12995</td>\n",
       "      <td>86096</td>\n",
       "      <td>2006</td>\n",
       "      <td>lx</td>\n",
       "      <td>4 Cyl</td>\n",
       "      <td>Automatic</td>\n",
       "    </tr>\n",
       "    <tr>\n",
       "      <th>4</th>\n",
       "      <td>11333</td>\n",
       "      <td>79607</td>\n",
       "      <td>2006</td>\n",
       "      <td>lx</td>\n",
       "      <td>4 Cyl</td>\n",
       "      <td>Automatic</td>\n",
       "    </tr>\n",
       "    <tr>\n",
       "      <th>...</th>\n",
       "      <td>...</td>\n",
       "      <td>...</td>\n",
       "      <td>...</td>\n",
       "      <td>...</td>\n",
       "      <td>...</td>\n",
       "      <td>...</td>\n",
       "    </tr>\n",
       "    <tr>\n",
       "      <th>412</th>\n",
       "      <td>12456</td>\n",
       "      <td>67564</td>\n",
       "      <td>2006</td>\n",
       "      <td>lx</td>\n",
       "      <td>4 Cyl</td>\n",
       "      <td>Automatic</td>\n",
       "    </tr>\n",
       "    <tr>\n",
       "      <th>413</th>\n",
       "      <td>10995</td>\n",
       "      <td>69775</td>\n",
       "      <td>2006</td>\n",
       "      <td>ex</td>\n",
       "      <td>4 Cyl</td>\n",
       "      <td>Automatic</td>\n",
       "    </tr>\n",
       "    <tr>\n",
       "      <th>414</th>\n",
       "      <td>16000</td>\n",
       "      <td>77997</td>\n",
       "      <td>2006</td>\n",
       "      <td>exl</td>\n",
       "      <td>4 Cyl</td>\n",
       "      <td>Automatic</td>\n",
       "    </tr>\n",
       "    <tr>\n",
       "      <th>415</th>\n",
       "      <td>14700</td>\n",
       "      <td>61892</td>\n",
       "      <td>2006</td>\n",
       "      <td>ex</td>\n",
       "      <td>4 Cyl</td>\n",
       "      <td>Automatic</td>\n",
       "    </tr>\n",
       "    <tr>\n",
       "      <th>416</th>\n",
       "      <td>14755</td>\n",
       "      <td>43034</td>\n",
       "      <td>2006</td>\n",
       "      <td>ex</td>\n",
       "      <td>4 Cyl</td>\n",
       "      <td>Automatic</td>\n",
       "    </tr>\n",
       "  </tbody>\n",
       "</table>\n",
       "<p>417 rows × 6 columns</p>\n",
       "</div>"
      ],
      "text/plain": [
       "     price  mileage  year trim engine transmission\n",
       "0    14995    67697  2006   ex  4 Cyl       Manual\n",
       "1    11988    73738  2006   ex  4 Cyl       Manual\n",
       "2    11999    80313  2006   lx  4 Cyl    Automatic\n",
       "3    12995    86096  2006   lx  4 Cyl    Automatic\n",
       "4    11333    79607  2006   lx  4 Cyl    Automatic\n",
       "..     ...      ...   ...  ...    ...          ...\n",
       "412  12456    67564  2006   lx  4 Cyl    Automatic\n",
       "413  10995    69775  2006   ex  4 Cyl    Automatic\n",
       "414  16000    77997  2006  exl  4 Cyl    Automatic\n",
       "415  14700    61892  2006   ex  4 Cyl    Automatic\n",
       "416  14755    43034  2006   ex  4 Cyl    Automatic\n",
       "\n",
       "[417 rows x 6 columns]"
      ]
     },
     "execution_count": 1,
     "metadata": {},
     "output_type": "execute_result"
    }
   ],
   "source": [
    "#Step 1 : Load the data on properties of cars into a pd dataframe\n",
    "import pandas as pd \n",
    "import statsmodels.api as sm\n",
    "cars = pd.read_csv(\"Downloads/accord_sedan.csv\")\n",
    "cars"
   ]
  },
  {
   "cell_type": "code",
   "execution_count": 2,
   "id": "1bfea0d4",
   "metadata": {},
   "outputs": [
    {
     "data": {
      "text/plain": [
       "{'whiskers': [<matplotlib.lines.Line2D at 0x7fd4b9271100>,\n",
       "  <matplotlib.lines.Line2D at 0x7fd4b9271460>],\n",
       " 'caps': [<matplotlib.lines.Line2D at 0x7fd4b92717c0>,\n",
       "  <matplotlib.lines.Line2D at 0x7fd4b9271b20>],\n",
       " 'boxes': [<matplotlib.lines.Line2D at 0x7fd4b9257d60>],\n",
       " 'medians': [<matplotlib.lines.Line2D at 0x7fd4b9271e80>],\n",
       " 'fliers': [<matplotlib.lines.Line2D at 0x7fd4b927c220>],\n",
       " 'means': []}"
      ]
     },
     "execution_count": 2,
     "metadata": {},
     "output_type": "execute_result"
    },
    {
     "data": {
      "image/png": "[encoded data removed]",
      "text/plain": [
       "<Figure size 432x288 with 1 Axes>"
      ]
     },
     "metadata": {
      "needs_background": "light"
     },
     "output_type": "display_data"
    }
   ],
   "source": [
    "#Step 2: Plot suitable graphs to show the distributions and help indicate outliers of price and mileage (e.g. with boxplots) and their joint distribution (e.g. with a scatterplot)\n",
    "import matplotlib.pyplot as plt \n",
    "#Step 3: (Visually) identify the outliers.\n",
    "plt.boxplot(cars.price)"
   ]
  },
  {
   "cell_type": "code",
   "execution_count": 3,
   "id": "17a6e000",
   "metadata": {},
   "outputs": [
    {
     "data": {
      "text/plain": [
       "{'whiskers': [<matplotlib.lines.Line2D at 0x7fd4b9363d90>,\n",
       "  <matplotlib.lines.Line2D at 0x7fd4b9372130>],\n",
       " 'caps': [<matplotlib.lines.Line2D at 0x7fd4b9372490>,\n",
       "  <matplotlib.lines.Line2D at 0x7fd4b93727f0>],\n",
       " 'boxes': [<matplotlib.lines.Line2D at 0x7fd4b9363a30>],\n",
       " 'medians': [<matplotlib.lines.Line2D at 0x7fd4b9372b50>],\n",
       " 'fliers': [<matplotlib.lines.Line2D at 0x7fd4b9372eb0>],\n",
       " 'means': []}"
      ]
     },
     "execution_count": 3,
     "metadata": {},
     "output_type": "execute_result"
    },
    {
     "data": {
      "image/png": "[encoded data removed]",
      "text/plain": [
       "<Figure size 432x288 with 1 Axes>"
      ]
     },
     "metadata": {
      "needs_background": "light"
     },
     "output_type": "display_data"
    }
   ],
   "source": [
    "#Step 3:(Visually) identify the outliers.\n",
    "plt.boxplot(cars.mileage)"
   ]
  },
  {
   "cell_type": "code",
   "execution_count": 4,
   "id": "09a0cbac",
   "metadata": {},
   "outputs": [
    {
     "data": {
      "text/plain": [
       "<matplotlib.collections.PathCollection at 0x7fd4b9459850>"
      ]
     },
     "execution_count": 4,
     "metadata": {},
     "output_type": "execute_result"
    },
    {
     "data": {
      "image/png": "[encoded data removed]",
      "text/plain": [
       "<Figure size 432x288 with 1 Axes>"
      ]
     },
     "metadata": {
      "needs_background": "light"
     },
     "output_type": "display_data"
    }
   ],
   "source": [
    "#step 2\n",
    "plt.scatter(cars.price,cars.mileage)"
   ]
  },
  {
   "cell_type": "code",
   "execution_count": 5,
   "id": "24876e85",
   "metadata": {},
   "outputs": [
    {
     "data": {
      "text/html": [
       "<div>\n",
       "<style scoped>\n",
       "    .dataframe tbody tr th:only-of-type {\n",
       "        vertical-align: middle;\n",
       "    }\n",
       "\n",
       "    .dataframe tbody tr th {\n",
       "        vertical-align: top;\n",
       "    }\n",
       "\n",
       "    .dataframe thead th {\n",
       "        text-align: right;\n",
       "    }\n",
       "</style>\n",
       "<table border=\"1\" class=\"dataframe\">\n",
       "  <thead>\n",
       "    <tr style=\"text-align: right;\">\n",
       "      <th></th>\n",
       "      <th>price</th>\n",
       "      <th>mileage</th>\n",
       "      <th>year</th>\n",
       "      <th>trim</th>\n",
       "      <th>engine</th>\n",
       "      <th>transmission</th>\n",
       "      <th>isOutlierPrice</th>\n",
       "      <th>isOutlierMileage</th>\n",
       "    </tr>\n",
       "  </thead>\n",
       "  <tbody>\n",
       "    <tr>\n",
       "      <th>0</th>\n",
       "      <td>14995</td>\n",
       "      <td>67697</td>\n",
       "      <td>2006</td>\n",
       "      <td>ex</td>\n",
       "      <td>4 Cyl</td>\n",
       "      <td>Manual</td>\n",
       "      <td>0.937757</td>\n",
       "      <td>1.174382</td>\n",
       "    </tr>\n",
       "    <tr>\n",
       "      <th>1</th>\n",
       "      <td>11988</td>\n",
       "      <td>73738</td>\n",
       "      <td>2006</td>\n",
       "      <td>ex</td>\n",
       "      <td>4 Cyl</td>\n",
       "      <td>Manual</td>\n",
       "      <td>1.329853</td>\n",
       "      <td>-0.093091</td>\n",
       "    </tr>\n",
       "    <tr>\n",
       "      <th>2</th>\n",
       "      <td>11999</td>\n",
       "      <td>80313</td>\n",
       "      <td>2006</td>\n",
       "      <td>lx</td>\n",
       "      <td>4 Cyl</td>\n",
       "      <td>Automatic</td>\n",
       "      <td>1.047921</td>\n",
       "      <td>1.826888</td>\n",
       "    </tr>\n",
       "    <tr>\n",
       "      <th>3</th>\n",
       "      <td>12995</td>\n",
       "      <td>86096</td>\n",
       "      <td>2006</td>\n",
       "      <td>lx</td>\n",
       "      <td>4 Cyl</td>\n",
       "      <td>Automatic</td>\n",
       "      <td>-0.132049</td>\n",
       "      <td>0.078815</td>\n",
       "    </tr>\n",
       "    <tr>\n",
       "      <th>4</th>\n",
       "      <td>11333</td>\n",
       "      <td>79607</td>\n",
       "      <td>2006</td>\n",
       "      <td>lx</td>\n",
       "      <td>4 Cyl</td>\n",
       "      <td>Automatic</td>\n",
       "      <td>-1.236799</td>\n",
       "      <td>-0.442409</td>\n",
       "    </tr>\n",
       "    <tr>\n",
       "      <th>...</th>\n",
       "      <td>...</td>\n",
       "      <td>...</td>\n",
       "      <td>...</td>\n",
       "      <td>...</td>\n",
       "      <td>...</td>\n",
       "      <td>...</td>\n",
       "      <td>...</td>\n",
       "      <td>...</td>\n",
       "    </tr>\n",
       "    <tr>\n",
       "      <th>412</th>\n",
       "      <td>12456</td>\n",
       "      <td>67564</td>\n",
       "      <td>2006</td>\n",
       "      <td>lx</td>\n",
       "      <td>4 Cyl</td>\n",
       "      <td>Automatic</td>\n",
       "      <td>0.307705</td>\n",
       "      <td>-1.286477</td>\n",
       "    </tr>\n",
       "    <tr>\n",
       "      <th>413</th>\n",
       "      <td>10995</td>\n",
       "      <td>69775</td>\n",
       "      <td>2006</td>\n",
       "      <td>ex</td>\n",
       "      <td>4 Cyl</td>\n",
       "      <td>Automatic</td>\n",
       "      <td>-0.381348</td>\n",
       "      <td>-0.189550</td>\n",
       "    </tr>\n",
       "    <tr>\n",
       "      <th>414</th>\n",
       "      <td>16000</td>\n",
       "      <td>77997</td>\n",
       "      <td>2006</td>\n",
       "      <td>exl</td>\n",
       "      <td>4 Cyl</td>\n",
       "      <td>Automatic</td>\n",
       "      <td>-0.423617</td>\n",
       "      <td>0.339577</td>\n",
       "    </tr>\n",
       "    <tr>\n",
       "      <th>415</th>\n",
       "      <td>14700</td>\n",
       "      <td>61892</td>\n",
       "      <td>2006</td>\n",
       "      <td>ex</td>\n",
       "      <td>4 Cyl</td>\n",
       "      <td>Automatic</td>\n",
       "      <td>0.331931</td>\n",
       "      <td>2.002132</td>\n",
       "    </tr>\n",
       "    <tr>\n",
       "      <th>416</th>\n",
       "      <td>14755</td>\n",
       "      <td>43034</td>\n",
       "      <td>2006</td>\n",
       "      <td>ex</td>\n",
       "      <td>4 Cyl</td>\n",
       "      <td>Automatic</td>\n",
       "      <td>1.021856</td>\n",
       "      <td>-0.629086</td>\n",
       "    </tr>\n",
       "  </tbody>\n",
       "</table>\n",
       "<p>417 rows × 8 columns</p>\n",
       "</div>"
      ],
      "text/plain": [
       "     price  mileage  year trim engine transmission  isOutlierPrice  \\\n",
       "0    14995    67697  2006   ex  4 Cyl       Manual        0.937757   \n",
       "1    11988    73738  2006   ex  4 Cyl       Manual        1.329853   \n",
       "2    11999    80313  2006   lx  4 Cyl    Automatic        1.047921   \n",
       "3    12995    86096  2006   lx  4 Cyl    Automatic       -0.132049   \n",
       "4    11333    79607  2006   lx  4 Cyl    Automatic       -1.236799   \n",
       "..     ...      ...   ...  ...    ...          ...             ...   \n",
       "412  12456    67564  2006   lx  4 Cyl    Automatic        0.307705   \n",
       "413  10995    69775  2006   ex  4 Cyl    Automatic       -0.381348   \n",
       "414  16000    77997  2006  exl  4 Cyl    Automatic       -0.423617   \n",
       "415  14700    61892  2006   ex  4 Cyl    Automatic        0.331931   \n",
       "416  14755    43034  2006   ex  4 Cyl    Automatic        1.021856   \n",
       "\n",
       "     isOutlierMileage  \n",
       "0            1.174382  \n",
       "1           -0.093091  \n",
       "2            1.826888  \n",
       "3            0.078815  \n",
       "4           -0.442409  \n",
       "..                ...  \n",
       "412         -1.286477  \n",
       "413         -0.189550  \n",
       "414          0.339577  \n",
       "415          2.002132  \n",
       "416         -0.629086  \n",
       "\n",
       "[417 rows x 8 columns]"
      ]
     },
     "execution_count": 5,
     "metadata": {},
     "output_type": "execute_result"
    }
   ],
   "source": [
    "#Step 4 Add two new columns to the dataframe called isOutlierPrice, isOutlierMileage. \n",
    "import pandas as pd\n",
    "import numpy as np\n",
    "sLength = len(cars[\"price\"])\n",
    "cars = cars.assign(isOutlierPrice = pd.Series(np.random.randn(sLength)).values)\n",
    "sLength = len(cars[\"price\"])\n",
    "cars = cars.assign(isOutlierMileage = pd.Series(np.random.randn(sLength)).values)\n",
    "cars"
   ]
  },
  {
   "cell_type": "code",
   "execution_count": 6,
   "id": "5bffd4b0",
   "metadata": {},
   "outputs": [
    {
     "data": {
      "text/plain": [
       "12084.242206235012"
      ]
     },
     "execution_count": 6,
     "metadata": {},
     "output_type": "execute_result"
    }
   ],
   "source": [
    "#Step 4 For the price column, calculate the mean and standard deviation. \n",
    "cars_meanPrice = cars[\"price\"].mean()\n",
    "cars_meanPrice "
   ]
  },
  {
   "cell_type": "code",
   "execution_count": 7,
   "id": "9efacc99",
   "metadata": {},
   "outputs": [
    {
     "data": {
      "text/plain": [
       "2061.430033967955"
      ]
     },
     "execution_count": 7,
     "metadata": {},
     "output_type": "execute_result"
    }
   ],
   "source": [
    "cars_stdPrice = cars[\"price\"].std()\n",
    "cars_stdPrice"
   ]
  },
  {
   "cell_type": "code",
   "execution_count": 8,
   "id": "a6bb0e71",
   "metadata": {},
   "outputs": [
    {
     "data": {
      "text/plain": [
       "16207.102274170922"
      ]
     },
     "execution_count": 8,
     "metadata": {},
     "output_type": "execute_result"
    }
   ],
   "source": [
    "Price_limitMAX = (2*cars_stdPrice + cars_meanPrice)\n",
    "Price_limitMAX"
   ]
  },
  {
   "cell_type": "code",
   "execution_count": 9,
   "id": "857d18be",
   "metadata": {},
   "outputs": [
    {
     "data": {
      "text/plain": [
       "7961.382138299103"
      ]
     },
     "execution_count": 9,
     "metadata": {},
     "output_type": "execute_result"
    }
   ],
   "source": [
    "Price_limitMIN = (- 2*cars_stdPrice + cars_meanPrice )\n",
    "Price_limitMIN"
   ]
  },
  {
   "cell_type": "code",
   "execution_count": 10,
   "id": "77b1be3e",
   "metadata": {},
   "outputs": [
    {
     "data": {
      "text/plain": [
       "141641.52391787665"
      ]
     },
     "execution_count": 10,
     "metadata": {},
     "output_type": "execute_result"
    }
   ],
   "source": [
    "mileage_limitMAX = 2*cars[\"mileage\"].std() + cars[\"mileage\"].mean()\n",
    "mileage_limitMAX"
   ]
  },
  {
   "cell_type": "code",
   "execution_count": 11,
   "id": "c3fd9db9",
   "metadata": {},
   "outputs": [
    {
     "data": {
      "text/plain": [
       "37810.03483512097"
      ]
     },
     "execution_count": 11,
     "metadata": {},
     "output_type": "execute_result"
    }
   ],
   "source": [
    "mileage_limitMIN = -2*cars[\"mileage\"].std() + cars[\"mileage\"].mean()\n",
    "mileage_limitMIN"
   ]
  },
  {
   "cell_type": "code",
   "execution_count": 15,
   "id": "6b260c5c",
   "metadata": {},
   "outputs": [
    {
     "data": {
      "text/html": [
       "<div>\n",
       "<style scoped>\n",
       "    .dataframe tbody tr th:only-of-type {\n",
       "        vertical-align: middle;\n",
       "    }\n",
       "\n",
       "    .dataframe tbody tr th {\n",
       "        vertical-align: top;\n",
       "    }\n",
       "\n",
       "    .dataframe thead th {\n",
       "        text-align: right;\n",
       "    }\n",
       "</style>\n",
       "<table border=\"1\" class=\"dataframe\">\n",
       "  <thead>\n",
       "    <tr style=\"text-align: right;\">\n",
       "      <th></th>\n",
       "      <th>price</th>\n",
       "      <th>mileage</th>\n",
       "      <th>year</th>\n",
       "      <th>trim</th>\n",
       "      <th>engine</th>\n",
       "      <th>transmission</th>\n",
       "      <th>isOutlierPrice</th>\n",
       "      <th>isOutlierMileage</th>\n",
       "    </tr>\n",
       "  </thead>\n",
       "  <tbody>\n",
       "    <tr>\n",
       "      <th>0</th>\n",
       "      <td>14995</td>\n",
       "      <td>67697</td>\n",
       "      <td>2006</td>\n",
       "      <td>ex</td>\n",
       "      <td>4 Cyl</td>\n",
       "      <td>Manual</td>\n",
       "      <td>0</td>\n",
       "      <td>0</td>\n",
       "    </tr>\n",
       "    <tr>\n",
       "      <th>1</th>\n",
       "      <td>11988</td>\n",
       "      <td>73738</td>\n",
       "      <td>2006</td>\n",
       "      <td>ex</td>\n",
       "      <td>4 Cyl</td>\n",
       "      <td>Manual</td>\n",
       "      <td>0</td>\n",
       "      <td>0</td>\n",
       "    </tr>\n",
       "    <tr>\n",
       "      <th>2</th>\n",
       "      <td>11999</td>\n",
       "      <td>80313</td>\n",
       "      <td>2006</td>\n",
       "      <td>lx</td>\n",
       "      <td>4 Cyl</td>\n",
       "      <td>Automatic</td>\n",
       "      <td>0</td>\n",
       "      <td>0</td>\n",
       "    </tr>\n",
       "    <tr>\n",
       "      <th>3</th>\n",
       "      <td>12995</td>\n",
       "      <td>86096</td>\n",
       "      <td>2006</td>\n",
       "      <td>lx</td>\n",
       "      <td>4 Cyl</td>\n",
       "      <td>Automatic</td>\n",
       "      <td>0</td>\n",
       "      <td>0</td>\n",
       "    </tr>\n",
       "    <tr>\n",
       "      <th>4</th>\n",
       "      <td>11333</td>\n",
       "      <td>79607</td>\n",
       "      <td>2006</td>\n",
       "      <td>lx</td>\n",
       "      <td>4 Cyl</td>\n",
       "      <td>Automatic</td>\n",
       "      <td>0</td>\n",
       "      <td>0</td>\n",
       "    </tr>\n",
       "    <tr>\n",
       "      <th>...</th>\n",
       "      <td>...</td>\n",
       "      <td>...</td>\n",
       "      <td>...</td>\n",
       "      <td>...</td>\n",
       "      <td>...</td>\n",
       "      <td>...</td>\n",
       "      <td>...</td>\n",
       "      <td>...</td>\n",
       "    </tr>\n",
       "    <tr>\n",
       "      <th>412</th>\n",
       "      <td>12456</td>\n",
       "      <td>67564</td>\n",
       "      <td>2006</td>\n",
       "      <td>lx</td>\n",
       "      <td>4 Cyl</td>\n",
       "      <td>Automatic</td>\n",
       "      <td>0</td>\n",
       "      <td>0</td>\n",
       "    </tr>\n",
       "    <tr>\n",
       "      <th>413</th>\n",
       "      <td>10995</td>\n",
       "      <td>69775</td>\n",
       "      <td>2006</td>\n",
       "      <td>ex</td>\n",
       "      <td>4 Cyl</td>\n",
       "      <td>Automatic</td>\n",
       "      <td>0</td>\n",
       "      <td>0</td>\n",
       "    </tr>\n",
       "    <tr>\n",
       "      <th>414</th>\n",
       "      <td>16000</td>\n",
       "      <td>77997</td>\n",
       "      <td>2006</td>\n",
       "      <td>exl</td>\n",
       "      <td>4 Cyl</td>\n",
       "      <td>Automatic</td>\n",
       "      <td>0</td>\n",
       "      <td>0</td>\n",
       "    </tr>\n",
       "    <tr>\n",
       "      <th>415</th>\n",
       "      <td>14700</td>\n",
       "      <td>61892</td>\n",
       "      <td>2006</td>\n",
       "      <td>ex</td>\n",
       "      <td>4 Cyl</td>\n",
       "      <td>Automatic</td>\n",
       "      <td>0</td>\n",
       "      <td>0</td>\n",
       "    </tr>\n",
       "    <tr>\n",
       "      <th>416</th>\n",
       "      <td>14755</td>\n",
       "      <td>43034</td>\n",
       "      <td>2006</td>\n",
       "      <td>ex</td>\n",
       "      <td>4 Cyl</td>\n",
       "      <td>Automatic</td>\n",
       "      <td>0</td>\n",
       "      <td>0</td>\n",
       "    </tr>\n",
       "  </tbody>\n",
       "</table>\n",
       "<p>417 rows × 8 columns</p>\n",
       "</div>"
      ],
      "text/plain": [
       "     price  mileage  year trim engine transmission  isOutlierPrice  \\\n",
       "0    14995    67697  2006   ex  4 Cyl       Manual               0   \n",
       "1    11988    73738  2006   ex  4 Cyl       Manual               0   \n",
       "2    11999    80313  2006   lx  4 Cyl    Automatic               0   \n",
       "3    12995    86096  2006   lx  4 Cyl    Automatic               0   \n",
       "4    11333    79607  2006   lx  4 Cyl    Automatic               0   \n",
       "..     ...      ...   ...  ...    ...          ...             ...   \n",
       "412  12456    67564  2006   lx  4 Cyl    Automatic               0   \n",
       "413  10995    69775  2006   ex  4 Cyl    Automatic               0   \n",
       "414  16000    77997  2006  exl  4 Cyl    Automatic               0   \n",
       "415  14700    61892  2006   ex  4 Cyl    Automatic               0   \n",
       "416  14755    43034  2006   ex  4 Cyl    Automatic               0   \n",
       "\n",
       "     isOutlierMileage  \n",
       "0                   0  \n",
       "1                   0  \n",
       "2                   0  \n",
       "3                   0  \n",
       "4                   0  \n",
       "..                ...  \n",
       "412                 0  \n",
       "413                 0  \n",
       "414                 0  \n",
       "415                 0  \n",
       "416                 0  \n",
       "\n",
       "[417 rows x 8 columns]"
      ]
     },
     "execution_count": 15,
     "metadata": {},
     "output_type": "execute_result"
    }
   ],
   "source": [
    "#Step 4 Use the standard deviation and mean to try to identify outliers for these two variables and mark them with a 1 in the isOutlierPrice and isOutlierMilage columns\n",
    "cars['isOutlierPrice'] = [1 if (x > Price_limitMAX) or (x< Price_limitMIN) else 0 for x in cars['price']]\n",
    "cars['isOutlierMileage'] = [1 if (x > mileage_limitMAX) or (x< mileage_limitMIN) else 0 for x in cars['mileage']]\n",
    "\n",
    "cars\n"
   ]
  },
  {
   "cell_type": "code",
   "execution_count": 16,
   "id": "1a6dac60",
   "metadata": {},
   "outputs": [
    {
     "data": {
      "text/plain": [
       "<AxesSubplot:xlabel='price', ylabel='mileage'>"
      ]
     },
     "execution_count": 16,
     "metadata": {},
     "output_type": "execute_result"
    },
    {
     "data": {
      "image/png": "[encoded data removed]",
      "text/plain": [
       "<Figure size 432x288 with 1 Axes>"
      ]
     },
     "metadata": {
      "needs_background": "light"
     },
     "output_type": "display_data"
    }
   ],
   "source": [
    "#Step 5 Show these \"outliers\" using a different colour (hue) in the plot. Are these what you would consider outliers? Observe whether they are the same as you would mark them.\n",
    "import matplotlib.pyplot as plt\n",
    "import seaborn as sns\n",
    "sns.scatterplot(x='price', y='mileage', data=cars,hue=(cars.isOutlierPrice==1) )"
   ]
  },
  {
   "cell_type": "code",
   "execution_count": 17,
   "id": "ff9e69b0",
   "metadata": {},
   "outputs": [
    {
     "data": {
      "text/plain": [
       "<AxesSubplot:xlabel='price', ylabel='mileage'>"
      ]
     },
     "execution_count": 17,
     "metadata": {},
     "output_type": "execute_result"
    },
    {
     "data": {
      "image/png": "[encoded data removed]",
      "text/plain": [
       "<Figure size 432x288 with 1 Axes>"
      ]
     },
     "metadata": {
      "needs_background": "light"
     },
     "output_type": "display_data"
    }
   ],
   "source": [
    "#Step 5 Show these \"outliers\" using a different colour (hue) in the plot. Are these what you would consider outliers? Observe whether they are the same as you would mark them.\n",
    "import matplotlib.pyplot as plt\n",
    "import seaborn as sns\n",
    "sns.scatterplot(x='price', y='mileage', data=cars,hue=(cars.isOutlierMileage==1) )"
   ]
  },
  {
   "cell_type": "markdown",
   "id": "f518bc06",
   "metadata": {},
   "source": [
    "# PART 2 : Q - Q PLOTS "
   ]
  },
  {
   "cell_type": "code",
   "execution_count": 18,
   "id": "005da76b",
   "metadata": {},
   "outputs": [
    {
     "data": {
      "text/html": [
       "<div>\n",
       "<style scoped>\n",
       "    .dataframe tbody tr th:only-of-type {\n",
       "        vertical-align: middle;\n",
       "    }\n",
       "\n",
       "    .dataframe tbody tr th {\n",
       "        vertical-align: top;\n",
       "    }\n",
       "\n",
       "    .dataframe thead th {\n",
       "        text-align: right;\n",
       "    }\n",
       "</style>\n",
       "<table border=\"1\" class=\"dataframe\">\n",
       "  <thead>\n",
       "    <tr style=\"text-align: right;\">\n",
       "      <th></th>\n",
       "      <th>country</th>\n",
       "      <th>iso2</th>\n",
       "      <th>iso3</th>\n",
       "      <th>iso_numeric</th>\n",
       "      <th>g_whoregion</th>\n",
       "      <th>year</th>\n",
       "      <th>e_pop_num</th>\n",
       "      <th>e_prev_100k</th>\n",
       "      <th>e_prev_100k_lo</th>\n",
       "      <th>e_prev_100k_hi</th>\n",
       "      <th>...</th>\n",
       "      <th>e_inc_tbhiv_100k</th>\n",
       "      <th>e_inc_tbhiv_100k_lo</th>\n",
       "      <th>e_inc_tbhiv_100k_hi</th>\n",
       "      <th>e_inc_tbhiv_num</th>\n",
       "      <th>e_inc_tbhiv_num_lo</th>\n",
       "      <th>e_inc_tbhiv_num_hi</th>\n",
       "      <th>source_tbhiv</th>\n",
       "      <th>c_cdr</th>\n",
       "      <th>c_cdr_lo</th>\n",
       "      <th>c_cdr_hi</th>\n",
       "    </tr>\n",
       "  </thead>\n",
       "  <tbody>\n",
       "    <tr>\n",
       "      <th>0</th>\n",
       "      <td>Afghanistan</td>\n",
       "      <td>AF</td>\n",
       "      <td>AFG</td>\n",
       "      <td>4</td>\n",
       "      <td>EMR</td>\n",
       "      <td>1990</td>\n",
       "      <td>11731193</td>\n",
       "      <td>327.0</td>\n",
       "      <td>112.0</td>\n",
       "      <td>655.0</td>\n",
       "      <td>...</td>\n",
       "      <td>0.35</td>\n",
       "      <td>0.22</td>\n",
       "      <td>0.52</td>\n",
       "      <td>41.0</td>\n",
       "      <td>25.0</td>\n",
       "      <td>60.0</td>\n",
       "      <td>Model</td>\n",
       "      <td>20.0</td>\n",
       "      <td>13.0</td>\n",
       "      <td>32.0</td>\n",
       "    </tr>\n",
       "    <tr>\n",
       "      <th>1</th>\n",
       "      <td>Afghanistan</td>\n",
       "      <td>AF</td>\n",
       "      <td>AFG</td>\n",
       "      <td>4</td>\n",
       "      <td>EMR</td>\n",
       "      <td>1991</td>\n",
       "      <td>12612043</td>\n",
       "      <td>359.0</td>\n",
       "      <td>172.0</td>\n",
       "      <td>613.0</td>\n",
       "      <td>...</td>\n",
       "      <td>0.36</td>\n",
       "      <td>0.19</td>\n",
       "      <td>0.58</td>\n",
       "      <td>45.0</td>\n",
       "      <td>24.0</td>\n",
       "      <td>73.0</td>\n",
       "      <td>Model</td>\n",
       "      <td>97.0</td>\n",
       "      <td>77.0</td>\n",
       "      <td>120.0</td>\n",
       "    </tr>\n",
       "    <tr>\n",
       "      <th>2</th>\n",
       "      <td>Afghanistan</td>\n",
       "      <td>AF</td>\n",
       "      <td>AFG</td>\n",
       "      <td>4</td>\n",
       "      <td>EMR</td>\n",
       "      <td>1992</td>\n",
       "      <td>13811876</td>\n",
       "      <td>387.0</td>\n",
       "      <td>169.0</td>\n",
       "      <td>693.0</td>\n",
       "      <td>...</td>\n",
       "      <td>0.37</td>\n",
       "      <td>0.19</td>\n",
       "      <td>0.62</td>\n",
       "      <td>51.0</td>\n",
       "      <td>26.0</td>\n",
       "      <td>86.0</td>\n",
       "      <td>Model</td>\n",
       "      <td>NaN</td>\n",
       "      <td>NaN</td>\n",
       "      <td>NaN</td>\n",
       "    </tr>\n",
       "    <tr>\n",
       "      <th>3</th>\n",
       "      <td>Afghanistan</td>\n",
       "      <td>AF</td>\n",
       "      <td>AFG</td>\n",
       "      <td>4</td>\n",
       "      <td>EMR</td>\n",
       "      <td>1993</td>\n",
       "      <td>15175325</td>\n",
       "      <td>412.0</td>\n",
       "      <td>186.0</td>\n",
       "      <td>724.0</td>\n",
       "      <td>...</td>\n",
       "      <td>0.38</td>\n",
       "      <td>0.20</td>\n",
       "      <td>0.63</td>\n",
       "      <td>58.0</td>\n",
       "      <td>30.0</td>\n",
       "      <td>95.0</td>\n",
       "      <td>Model</td>\n",
       "      <td>NaN</td>\n",
       "      <td>NaN</td>\n",
       "      <td>NaN</td>\n",
       "    </tr>\n",
       "    <tr>\n",
       "      <th>4</th>\n",
       "      <td>Afghanistan</td>\n",
       "      <td>AF</td>\n",
       "      <td>AFG</td>\n",
       "      <td>4</td>\n",
       "      <td>EMR</td>\n",
       "      <td>1994</td>\n",
       "      <td>16485018</td>\n",
       "      <td>431.0</td>\n",
       "      <td>199.0</td>\n",
       "      <td>751.0</td>\n",
       "      <td>...</td>\n",
       "      <td>0.40</td>\n",
       "      <td>0.21</td>\n",
       "      <td>0.64</td>\n",
       "      <td>65.0</td>\n",
       "      <td>35.0</td>\n",
       "      <td>100.0</td>\n",
       "      <td>Model</td>\n",
       "      <td>NaN</td>\n",
       "      <td>NaN</td>\n",
       "      <td>NaN</td>\n",
       "    </tr>\n",
       "    <tr>\n",
       "      <th>...</th>\n",
       "      <td>...</td>\n",
       "      <td>...</td>\n",
       "      <td>...</td>\n",
       "      <td>...</td>\n",
       "      <td>...</td>\n",
       "      <td>...</td>\n",
       "      <td>...</td>\n",
       "      <td>...</td>\n",
       "      <td>...</td>\n",
       "      <td>...</td>\n",
       "      <td>...</td>\n",
       "      <td>...</td>\n",
       "      <td>...</td>\n",
       "      <td>...</td>\n",
       "      <td>...</td>\n",
       "      <td>...</td>\n",
       "      <td>...</td>\n",
       "      <td>...</td>\n",
       "      <td>...</td>\n",
       "      <td>...</td>\n",
       "      <td>...</td>\n",
       "    </tr>\n",
       "    <tr>\n",
       "      <th>4898</th>\n",
       "      <td>Zimbabwe</td>\n",
       "      <td>ZW</td>\n",
       "      <td>ZWE</td>\n",
       "      <td>716</td>\n",
       "      <td>AFR</td>\n",
       "      <td>2008</td>\n",
       "      <td>12784041</td>\n",
       "      <td>445.0</td>\n",
       "      <td>56.0</td>\n",
       "      <td>1228.0</td>\n",
       "      <td>...</td>\n",
       "      <td>574.00</td>\n",
       "      <td>447.00</td>\n",
       "      <td>716.00</td>\n",
       "      <td>73000.0</td>\n",
       "      <td>57000.0</td>\n",
       "      <td>92000.0</td>\n",
       "      <td>Surveillance</td>\n",
       "      <td>40.0</td>\n",
       "      <td>32.0</td>\n",
       "      <td>51.0</td>\n",
       "    </tr>\n",
       "    <tr>\n",
       "      <th>4899</th>\n",
       "      <td>Zimbabwe</td>\n",
       "      <td>ZW</td>\n",
       "      <td>ZWE</td>\n",
       "      <td>716</td>\n",
       "      <td>AFR</td>\n",
       "      <td>2009</td>\n",
       "      <td>12888918</td>\n",
       "      <td>423.0</td>\n",
       "      <td>49.0</td>\n",
       "      <td>1192.0</td>\n",
       "      <td>...</td>\n",
       "      <td>531.00</td>\n",
       "      <td>408.00</td>\n",
       "      <td>670.00</td>\n",
       "      <td>68000.0</td>\n",
       "      <td>53000.0</td>\n",
       "      <td>86000.0</td>\n",
       "      <td>Surveillance</td>\n",
       "      <td>50.0</td>\n",
       "      <td>40.0</td>\n",
       "      <td>65.0</td>\n",
       "    </tr>\n",
       "    <tr>\n",
       "      <th>4900</th>\n",
       "      <td>Zimbabwe</td>\n",
       "      <td>ZW</td>\n",
       "      <td>ZWE</td>\n",
       "      <td>716</td>\n",
       "      <td>AFR</td>\n",
       "      <td>2010</td>\n",
       "      <td>13076978</td>\n",
       "      <td>438.0</td>\n",
       "      <td>70.0</td>\n",
       "      <td>1136.0</td>\n",
       "      <td>...</td>\n",
       "      <td>480.00</td>\n",
       "      <td>371.00</td>\n",
       "      <td>603.00</td>\n",
       "      <td>63000.0</td>\n",
       "      <td>48000.0</td>\n",
       "      <td>79000.0</td>\n",
       "      <td>Surveillance</td>\n",
       "      <td>53.0</td>\n",
       "      <td>43.0</td>\n",
       "      <td>69.0</td>\n",
       "    </tr>\n",
       "    <tr>\n",
       "      <th>4901</th>\n",
       "      <td>Zimbabwe</td>\n",
       "      <td>ZW</td>\n",
       "      <td>ZWE</td>\n",
       "      <td>716</td>\n",
       "      <td>AFR</td>\n",
       "      <td>2011</td>\n",
       "      <td>13358738</td>\n",
       "      <td>458.0</td>\n",
       "      <td>93.0</td>\n",
       "      <td>1107.0</td>\n",
       "      <td>...</td>\n",
       "      <td>433.00</td>\n",
       "      <td>335.00</td>\n",
       "      <td>543.00</td>\n",
       "      <td>58000.0</td>\n",
       "      <td>45000.0</td>\n",
       "      <td>73000.0</td>\n",
       "      <td>Surveillance</td>\n",
       "      <td>48.0</td>\n",
       "      <td>38.0</td>\n",
       "      <td>62.0</td>\n",
       "    </tr>\n",
       "    <tr>\n",
       "      <th>4902</th>\n",
       "      <td>Zimbabwe</td>\n",
       "      <td>ZW</td>\n",
       "      <td>ZWE</td>\n",
       "      <td>716</td>\n",
       "      <td>AFR</td>\n",
       "      <td>2012</td>\n",
       "      <td>13724317</td>\n",
       "      <td>433.0</td>\n",
       "      <td>92.0</td>\n",
       "      <td>1034.0</td>\n",
       "      <td>...</td>\n",
       "      <td>399.00</td>\n",
       "      <td>308.00</td>\n",
       "      <td>501.00</td>\n",
       "      <td>55000.0</td>\n",
       "      <td>42000.0</td>\n",
       "      <td>69000.0</td>\n",
       "      <td>Surveillance</td>\n",
       "      <td>46.0</td>\n",
       "      <td>37.0</td>\n",
       "      <td>60.0</td>\n",
       "    </tr>\n",
       "  </tbody>\n",
       "</table>\n",
       "<p>4903 rows × 39 columns</p>\n",
       "</div>"
      ],
      "text/plain": [
       "          country iso2 iso3  iso_numeric g_whoregion  year  e_pop_num  \\\n",
       "0     Afghanistan   AF  AFG            4         EMR  1990   11731193   \n",
       "1     Afghanistan   AF  AFG            4         EMR  1991   12612043   \n",
       "2     Afghanistan   AF  AFG            4         EMR  1992   13811876   \n",
       "3     Afghanistan   AF  AFG            4         EMR  1993   15175325   \n",
       "4     Afghanistan   AF  AFG            4         EMR  1994   16485018   \n",
       "...           ...  ...  ...          ...         ...   ...        ...   \n",
       "4898     Zimbabwe   ZW  ZWE          716         AFR  2008   12784041   \n",
       "4899     Zimbabwe   ZW  ZWE          716         AFR  2009   12888918   \n",
       "4900     Zimbabwe   ZW  ZWE          716         AFR  2010   13076978   \n",
       "4901     Zimbabwe   ZW  ZWE          716         AFR  2011   13358738   \n",
       "4902     Zimbabwe   ZW  ZWE          716         AFR  2012   13724317   \n",
       "\n",
       "      e_prev_100k  e_prev_100k_lo  e_prev_100k_hi  ...  e_inc_tbhiv_100k  \\\n",
       "0           327.0           112.0           655.0  ...              0.35   \n",
       "1           359.0           172.0           613.0  ...              0.36   \n",
       "2           387.0           169.0           693.0  ...              0.37   \n",
       "3           412.0           186.0           724.0  ...              0.38   \n",
       "4           431.0           199.0           751.0  ...              0.40   \n",
       "...           ...             ...             ...  ...               ...   \n",
       "4898        445.0            56.0          1228.0  ...            574.00   \n",
       "4899        423.0            49.0          1192.0  ...            531.00   \n",
       "4900        438.0            70.0          1136.0  ...            480.00   \n",
       "4901        458.0            93.0          1107.0  ...            433.00   \n",
       "4902        433.0            92.0          1034.0  ...            399.00   \n",
       "\n",
       "      e_inc_tbhiv_100k_lo  e_inc_tbhiv_100k_hi  e_inc_tbhiv_num  \\\n",
       "0                    0.22                 0.52             41.0   \n",
       "1                    0.19                 0.58             45.0   \n",
       "2                    0.19                 0.62             51.0   \n",
       "3                    0.20                 0.63             58.0   \n",
       "4                    0.21                 0.64             65.0   \n",
       "...                   ...                  ...              ...   \n",
       "4898               447.00               716.00          73000.0   \n",
       "4899               408.00               670.00          68000.0   \n",
       "4900               371.00               603.00          63000.0   \n",
       "4901               335.00               543.00          58000.0   \n",
       "4902               308.00               501.00          55000.0   \n",
       "\n",
       "      e_inc_tbhiv_num_lo  e_inc_tbhiv_num_hi  source_tbhiv  c_cdr  c_cdr_lo  \\\n",
       "0                   25.0                60.0         Model   20.0      13.0   \n",
       "1                   24.0                73.0         Model   97.0      77.0   \n",
       "2                   26.0                86.0         Model    NaN       NaN   \n",
       "3                   30.0                95.0         Model    NaN       NaN   \n",
       "4                   35.0               100.0         Model    NaN       NaN   \n",
       "...                  ...                 ...           ...    ...       ...   \n",
       "4898             57000.0             92000.0  Surveillance   40.0      32.0   \n",
       "4899             53000.0             86000.0  Surveillance   50.0      40.0   \n",
       "4900             48000.0             79000.0  Surveillance   53.0      43.0   \n",
       "4901             45000.0             73000.0  Surveillance   48.0      38.0   \n",
       "4902             42000.0             69000.0  Surveillance   46.0      37.0   \n",
       "\n",
       "     c_cdr_hi  \n",
       "0        32.0  \n",
       "1       120.0  \n",
       "2         NaN  \n",
       "3         NaN  \n",
       "4         NaN  \n",
       "...       ...  \n",
       "4898     51.0  \n",
       "4899     65.0  \n",
       "4900     69.0  \n",
       "4901     62.0  \n",
       "4902     60.0  \n",
       "\n",
       "[4903 rows x 39 columns]"
      ]
     },
     "execution_count": 18,
     "metadata": {},
     "output_type": "execute_result"
    }
   ],
   "source": [
    "#step 1: Download the csv data file from WHO on Tuberculosis (from Week01). Information on the data can be found on WHO's web page. You may need to replace missing values before you start.\n",
    "import pandas as pd\n",
    "import numpy as np \n",
    "TB = pd.read_csv('TB_burden_countries_2014-09-29.csv')\n",
    "TB"
   ]
  },
  {
   "cell_type": "code",
   "execution_count": 19,
   "id": "93122a07",
   "metadata": {},
   "outputs": [
    {
     "data": {
      "text/plain": [
       "0       13000.0\n",
       "1       22000.0\n",
       "2       23000.0\n",
       "3       28000.0\n",
       "4       33000.0\n",
       "         ...   \n",
       "4898     7100.0\n",
       "4899     6300.0\n",
       "4900     9100.0\n",
       "4901    12000.0\n",
       "4902    13000.0\n",
       "Name: e_prev_num_lo, Length: 4903, dtype: float64"
      ]
     },
     "execution_count": 19,
     "metadata": {},
     "output_type": "execute_result"
    }
   ],
   "source": [
    "#step 1 \n",
    "variable_interest = TB.e_prev_num_lo.replace(0,np.nan)\n",
    "variable_interest"
   ]
  },
  {
   "cell_type": "code",
   "execution_count": 20,
   "id": "084a64fc",
   "metadata": {},
   "outputs": [
    {
     "data": {
      "image/png": "[encoded data removed]",
      "text/plain": [
       "<Figure size 432x288 with 1 Axes>"
      ]
     },
     "execution_count": 20,
     "metadata": {},
     "output_type": "execute_result"
    },
    {
     "data": {
      "image/png": "[encoded data removed]",
      "text/plain": [
       "<Figure size 432x288 with 1 Axes>"
      ]
     },
     "metadata": {
      "needs_background": "light"
     },
     "output_type": "display_data"
    },
    {
     "data": {
      "image/png": "[encoded data removed]",
      "text/plain": [
       "<Figure size 432x288 with 1 Axes>"
      ]
     },
     "metadata": {
      "needs_background": "light"
     },
     "output_type": "display_data"
    }
   ],
   "source": [
    "#step 2\n",
    "import statsmodels.api as sm\n",
    "normal_t = np.random.normal(0,1,1000)\n",
    "sm.qqplot(normal_t,line='45')\n",
    "sm.qqplot(variable_interest,line='45')"
   ]
  },
  {
   "cell_type": "markdown",
   "id": "04df5c9d",
   "metadata": {},
   "source": [
    "# Part 3: Distributions & Sampling & Robust Statistics"
   ]
  },
  {
   "cell_type": "code",
   "execution_count": 21,
   "id": "c64cf7c3",
   "metadata": {},
   "outputs": [
    {
     "name": "stdout",
     "output_type": "stream",
     "text": [
      "[5.49020286 8.87463951 5.21100164 6.24630533 5.32251196] [5.06187729 6.59920794 4.50069169 6.20616247 6.26859766] [4.93650478 4.43802742 4.85587216 5.54688235 5.19712439]\n"
     ]
    }
   ],
   "source": [
    "import numpy as np\n",
    "normal_part3A = np.random.normal(5,1,5)\n",
    "normal_part3B = np.random.normal(5,3,5)\n",
    "normal_part3C = np.random.normal(5,0.5,5)\n",
    "\n",
    "print(normal_part3A,normal_part3B,normal_part3C)"
   ]
  },
  {
   "cell_type": "code",
   "execution_count": 23,
   "id": "480b4016",
   "metadata": {},
   "outputs": [
    {
     "name": "stdout",
     "output_type": "stream",
     "text": [
      "mean: 6.2289322609507485 5.727307410419681 4.994882221090025\n",
      "Standard deviation: 1.3713912882377977 0.8037277175974913 0.36835445826837176\n",
      "skewness: 1.2652571570474238 -0.46571479165349144 0.0036417724927998224\n",
      "Kurtosis: -0.11382453556316907 -1.4776962901377815 -0.9244720118082497\n"
     ]
    }
   ],
   "source": [
    "print(\"mean:\",normal_part3A.mean(),normal_part3B.mean(),normal_part3C.mean())\n",
    "print(\"Standard deviation:\", normal_part3A.std(),normal_part3B.std(),normal_part3C.std())\n",
    "from scipy.stats import skew\n",
    "from scipy.stats import kurtosis\n",
    "print(\"skewness:\",skew(normal_part3A),skew(normal_part3B),skew(normal_part3C)) \n",
    "print(\"Kurtosis:\",kurtosis(normal_part3A),kurtosis(normal_part3B),kurtosis(normal_part3C))"
   ]
  },
  {
   "cell_type": "code",
   "execution_count": 27,
   "id": "2935e893",
   "metadata": {},
   "outputs": [
    {
     "name": "stdout",
     "output_type": "stream",
     "text": [
      "[4.91517634 4.22294735 3.42859254 3.43688262 6.06162492 3.5781955\n",
      " 5.24692385 6.82920353 6.9024617  3.31166364] [3.91296515 8.03184489 2.67494344 7.69674191 7.69909703 3.0922395\n",
      " 5.60285533 6.72455397 3.98657712 3.46730303] [5.43148614 4.85675963 5.07040569 5.4538615  4.86347429 4.93077254\n",
      " 5.8185212  4.68389842 4.82824329 4.23858312]\n"
     ]
    }
   ],
   "source": [
    "normal_part3A = np.random.normal(5,1,10)\n",
    "normal_part3B = np.random.normal(5,3,10)\n",
    "normal_part3C = np.random.normal(5,0.5,10)\n",
    "\n",
    "print(normal_part3A,normal_part3B,normal_part3C)\n"
   ]
  },
  {
   "cell_type": "code",
   "execution_count": 30,
   "id": "12c137a1",
   "metadata": {},
   "outputs": [
    {
     "name": "stdout",
     "output_type": "stream",
     "text": [
      "mean: 4.793367199008808 5.288912136795252 5.01760058139899\n",
      "Standard deviation: 1.34618218404063 1.99638955750459 0.4262783612975229\n",
      "skewness: 0.39694391949456165 0.15418781026650613 0.18417051320490688\n",
      "Kurtosis: -1.3692203228038724 -1.6423217772716951 -0.3944976231244879\n"
     ]
    }
   ],
   "source": [
    "print(\"mean:\",normal_part3A.mean(),normal_part3B.mean(),normal_part3C.mean())\n",
    "print(\"Standard deviation:\", normal_part3A.std(),normal_part3B.std(),normal_part3C.std())\n",
    "from scipy.stats import skew\n",
    "from scipy.stats import kurtosis\n",
    "print(\"skewness:\",skew(normal_part3A),skew(normal_part3B),skew(normal_part3C)) \n",
    "print(\"Kurtosis:\",kurtosis(normal_part3A),kurtosis(normal_part3B),kurtosis(normal_part3C))"
   ]
  },
  {
   "cell_type": "code",
   "execution_count": 31,
   "id": "782c9f4e",
   "metadata": {},
   "outputs": [
    {
     "name": "stdout",
     "output_type": "stream",
     "text": [
      "[4.67445506 4.34923529 8.01937345 3.26564312 3.66042844 3.49448593\n",
      " 5.90187673 4.3735831  5.84511809 4.61663816 5.12633459 5.0691743\n",
      " 4.65260028 4.89679824 5.46792208 5.80599556 5.01083902 3.94119273\n",
      " 3.97825314 4.57420192 5.00663108 5.17165707 5.40443796 5.96199796\n",
      " 6.27881217 4.57031596 5.34160285 5.59040342 4.35812211 3.0176171\n",
      " 5.39158897 3.63596673 4.89065658 5.59098131 4.83437177 4.44919312\n",
      " 4.38070925 5.34831145 3.65907264 4.19071196 4.79616013 3.6825204\n",
      " 4.48954112 4.89961096 6.04251656 5.11541248 6.23952995 4.15939937\n",
      " 5.95886344 5.46718365 5.49007998 6.35914622 4.53533318 5.17660323\n",
      " 5.556886   3.94800112 3.24463753 5.30141238 4.88805583 6.02799217\n",
      " 4.71550463 3.69039289 6.8401109  5.48112297 5.08300951 4.34731645\n",
      " 6.15018526 4.94324438 4.53695279 5.42484479 5.91052112 5.6554278\n",
      " 4.41859989 3.45241398 5.72405548 4.21621587 4.23104933 2.85412697\n",
      " 4.50857598 4.28217175 3.87498749 5.2817299  6.15819422 3.50410841\n",
      " 4.83398709 5.43008789 4.43342635 6.92350008 5.70392593 4.97797334\n",
      " 4.43314403 6.81142321 6.88200966 5.16182091 5.2356718  3.16190334\n",
      " 5.26135631 5.30336423 5.2066423  4.59960243] [ 5.04247179  1.77681596  1.34849048 -0.15440421  9.80958621  3.78100106\n",
      " -0.03095443  3.45278202  6.33326598  1.56054313  5.80366775  4.32179377\n",
      "  6.9017965   2.04576202  7.21823239  4.82727455  8.00269362  4.27075147\n",
      "  3.02355092  1.74182464 -1.25608065  1.50941838  3.56391755  7.54638535\n",
      "  2.29170962  8.43504778  7.92500858  5.78501201  5.22446854  3.21601049\n",
      "  2.62978977  6.68448843  6.16100819  4.91549859  3.79781768  1.66741143\n",
      "  5.4782477   2.02917263  1.06444709  2.61315984  0.61989863  9.05762865\n",
      "  7.14895694  3.72911375  5.74155987  2.72965916  8.3344878   3.8189748\n",
      "  3.88744591  3.51114924  0.79714826  4.64777063  6.17850831  6.22138471\n",
      " 12.45546156  7.15851931  5.90249762  1.34106767  6.26093661  3.36688609\n",
      "  7.43501667  9.81579809  8.517108    7.21672461  2.4201685   4.80212734\n",
      "  6.48424088  7.50063916  4.4280956   8.33122196  1.55295853  4.43965618\n",
      "  4.06671007  3.23237356  8.95108226  0.84283977 -1.35833556  3.65127862\n",
      "  2.17334549  9.24557907 11.39192736 -0.66831956  5.78155647  3.64721203\n",
      "  1.26203341  4.64052146  4.10603781 -1.43111353 -0.18388929  7.16310478\n",
      "  4.96541944  5.59275274  5.45186687 10.38070775  6.30399158  0.4436901\n",
      "  4.18657863 11.57970391  6.03584053  1.5546836 ] [4.34124603 4.72491273 4.60653121 4.78380238 5.55890873 4.82492012\n",
      " 5.64965088 4.74750167 4.14089312 5.08960342 4.97128862 5.14279862\n",
      " 4.5378235  5.45824246 5.20081034 5.15386327 4.78073005 4.57842721\n",
      " 5.02318259 4.29434659 4.41085101 5.82724996 3.97289967 4.30802406\n",
      " 5.0894921  4.93838043 4.87383755 4.59122508 4.33626702 4.58852498\n",
      " 5.08907115 5.72776752 4.61708275 5.69203102 4.81103434 4.55857035\n",
      " 4.69141579 5.55713022 5.79589115 4.68401362 4.95150109 6.30159114\n",
      " 4.9560163  5.1512325  4.59749518 5.50837758 5.16349061 4.29719642\n",
      " 5.06184669 5.06246598 5.11781378 5.57731275 4.8000011  5.2708882\n",
      " 5.25509488 4.38796851 4.02401813 5.54422344 4.99019086 5.08286054\n",
      " 4.81186601 4.62078438 5.04744821 5.8872193  4.92175079 4.71512559\n",
      " 5.82377893 5.5437476  5.67365961 5.1058849  5.19477059 4.23293015\n",
      " 4.45593743 4.3847256  4.26771905 5.22065328 5.15988867 4.56062329\n",
      " 4.7321876  5.53121977 4.68108053 5.03652715 4.90917606 5.30635695\n",
      " 4.94320684 4.05878324 5.52403712 4.18281887 5.09123815 4.95488663\n",
      " 4.39179412 5.15302184 4.8029972  4.99518678 4.54228256 5.19378514\n",
      " 4.83645284 4.88759216 5.60152911 5.37911709]\n"
     ]
    }
   ],
   "source": [
    "normal_part3A = np.random.normal(5,1,100)\n",
    "normal_part3B = np.random.normal(5,3,100)\n",
    "normal_part3C = np.random.normal(5,0.5,100)\n",
    "\n",
    "print(normal_part3A,normal_part3B,normal_part3C)\n",
    "\n"
   ]
  },
  {
   "cell_type": "code",
   "execution_count": 32,
   "id": "f82bed5e",
   "metadata": {},
   "outputs": [
    {
     "name": "stdout",
     "output_type": "stream",
     "text": [
      "mean: 4.94820898055254 4.612208750424223 4.952356201862288\n",
      "Standard deviation: 0.9438451718603592 3.021628702241778 0.4716508398015762\n",
      "skewness: 0.22651850108147936 0.21456671111932737 0.21148318696202847\n",
      "Kurtosis: 0.28707000618401324 -0.3583996762752881 -0.30624106121064987\n"
     ]
    }
   ],
   "source": [
    "print(\"mean:\",normal_part3A.mean(),normal_part3B.mean(),normal_part3C.mean())\n",
    "print(\"Standard deviation:\", normal_part3A.std(),normal_part3B.std(),normal_part3C.std())\n",
    "from scipy.stats import skew\n",
    "from scipy.stats import kurtosis\n",
    "print(\"skewness:\",skew(normal_part3A),skew(normal_part3B),skew(normal_part3C)) \n",
    "print(\"Kurtosis:\",kurtosis(normal_part3A),kurtosis(normal_part3B),kurtosis(normal_part3C))"
   ]
  }
 ],
 "metadata": {
  "kernelspec": {
   "display_name": "Python 3",
   "language": "python",
   "name": "python3"
  },
  "language_info": {
   "codemirror_mode": {
    "name": "ipython",
    "version": 3
   },
   "file_extension": ".py",
   "mimetype": "text/x-python",
   "name": "python",
   "nbconvert_exporter": "python",
   "pygments_lexer": "ipython3",
   "version": "3.8.8"
  }
 },
 "nbformat": 4,
 "nbformat_minor": 5
}
